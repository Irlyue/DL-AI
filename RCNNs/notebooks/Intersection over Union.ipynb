{
 "cells": [
  {
   "cell_type": "code",
   "execution_count": 1,
   "metadata": {},
   "outputs": [],
   "source": [
    "import numpy as np\n",
    "import matplotlib.pyplot as plt\n",
    "\n",
    "from sklearn.metrics import confusion_matrix\n",
    "\n",
    "%matplotlib inline"
   ]
  },
  {
   "cell_type": "code",
   "execution_count": 2,
   "metadata": {
    "collapsed": true
   },
   "outputs": [],
   "source": [
    "np.random.seed(3)\n",
    "\n",
    "n_classes = 3\n",
    "n_examples = 15\n",
    "gt = np.random.randint(n_classes, size=(3,n_examples))\n",
    "pred = np.random.randint(n_classes, size=(3,n_examples))"
   ]
  },
  {
   "cell_type": "code",
   "execution_count": 3,
   "metadata": {},
   "outputs": [
    {
     "name": "stdout",
     "output_type": "stream",
     "text": [
      "Ground Truth:  [[2 0 1 0 0 0 1 1 2 1 1 2 1 2 0]\n",
      " [0 0 1 2 0 2 1 2 2 2 2 0 1 2 1]\n",
      " [0 2 1 1 2 0 2 0 1 0 1 0 2 1 1]]\n",
      "Prediction  :  [[2 0 0 2 0 0 1 2 0 1 0 0 1 1 2]\n",
      " [1 1 1 1 1 2 0 0 0 0 0 0 2 2 0]\n",
      " [1 1 2 0 1 1 0 1 0 2 2 0 0 2 0]]\n"
     ]
    }
   ],
   "source": [
    "print('Ground Truth: ', gt)\n",
    "print('Prediction  : ', pred)"
   ]
  },
  {
   "cell_type": "markdown",
   "metadata": {},
   "source": [
    "## Use Sklearn\n",
    "The `confusion_matrix` function from sklearn package only accepts input arrays with rank 1, so we have to flatten the inputs to get it work."
   ]
  },
  {
   "cell_type": "code",
   "execution_count": 4,
   "metadata": {},
   "outputs": [],
   "source": [
    "def iou_v1(gt, pred):\n",
    "    assert gt.shape == pred.shape, \"Shape not equal!\"\n",
    "    gt = gt.ravel() \n",
    "    pred = pred.ravel()\n",
    "    cm = confusion_matrix(y_true=gt, y_pred=pred)\n",
    "    # denom = (TP + FN) + (TP + FP)\n",
    "    denom = np.sum(cm, axis=0) + np.sum(cm, axis=1)\n",
    "    idx = range(cm.shape[0])\n",
    "    # nom = TP\n",
    "    nom = cm[idx, idx]\n",
    "    iou = nom / (denom - nom)\n",
    "    miou = np.mean(iou)\n",
    "    return iou, miou"
   ]
  },
  {
   "cell_type": "code",
   "execution_count": 5,
   "metadata": {},
   "outputs": [
    {
     "name": "stdout",
     "output_type": "stream",
     "text": [
      "IoU : [ 0.17241379  0.15384615  0.13043478]\n",
      "mIoU: 0.152231576519\n"
     ]
    }
   ],
   "source": [
    "# cm = confusion_matrix(gt.ravel(), pred.ravel())\n",
    "# print(cm)\n",
    "\n",
    "iou1, miou1 = iou_v1(gt, pred)\n",
    "print('IoU :', iou1)\n",
    "print('mIoU:', miou1)"
   ]
  },
  {
   "cell_type": "markdown",
   "metadata": {},
   "source": [
    "## Use Tensorflow\n",
    "There are two approaches to compute mIoU in tensorflow.\n",
    "- Approach one: first compute the confusion matrix and then calculate the iou manually\n",
    "- Approach two: use the more advanced function `mean_iou()` from `tf.metrics` module\n",
    "\n",
    "If you're to use the first approach, you also need to flatten the input tensor before feeding to the `tf.confusion_matrix()` function. The good thing with approach one is that you can get back the IoU for each class together with the average IoU(mIoU). But if you faver the second one, life becomes much easier since the function deals with all the heavy lifting. The only thing to remember is to first run the update operation before you retrieve the value of mIoU. Functions bellow show how to use these two approaches to calculate mIoU metric and code can be easily integrated into your own project."
   ]
  },
  {
   "cell_type": "code",
   "execution_count": 6,
   "metadata": {
    "collapsed": true
   },
   "outputs": [],
   "source": [
    "import tensorflow as tf"
   ]
  },
  {
   "cell_type": "code",
   "execution_count": 7,
   "metadata": {},
   "outputs": [],
   "source": [
    "def iou_v2(gt, pred):\n",
    "    with tf.Graph().as_default():\n",
    "        gt = tf.convert_to_tensor(gt, dtype=tf.int32, name='gt')\n",
    "        pred = tf.convert_to_tensor(pred, dtype=tf.int32, name='pred')\n",
    "        flag = tf.equal(tf.shape(gt), tf.shape(pred))\n",
    "        gt = tf.reshape(gt, shape=(-1,))\n",
    "        pred = tf.reshape(pred, shape=(-1,))\n",
    "        cm = tf.confusion_matrix(labels=gt, predictions=pred)\n",
    "        denom = tf.reduce_sum(cm, axis=0) + tf.reduce_sum(cm, axis=1)\n",
    "        nom = tf.diag_part(cm)\n",
    "        iou = nom / (denom - nom)\n",
    "        miou = tf.reduce_mean(iou)\n",
    "        with tf.Session() as sess:\n",
    "            assert np.all(sess.run(flag)), 'Shape not equal!'\n",
    "            iou, miou = sess.run([iou, miou])\n",
    "        return iou, miou\n",
    "    \n",
    "    \n",
    "def iou_v3(gt, pred):\n",
    "    with tf.Graph().as_default():\n",
    "        gt = tf.convert_to_tensor(gt, dtype=tf.int32, name='gt')\n",
    "        pred = tf.convert_to_tensor(pred, dtype=tf.int32, name='pred')\n",
    "        flag = tf.equal(tf.shape(gt), tf.shape(pred))\n",
    "        miou, update_op = tf.metrics.mean_iou(labels=gt, predictions=pred, num_classes=n_classes)\n",
    "        with tf.Session() as sess:\n",
    "            sess.run(tf.global_variables_initializer())\n",
    "            sess.run(tf.local_variables_initializer())\n",
    "            assert np.all(sess.run(flag)), 'Shape not equal!'\n",
    "            sess.run(update_op)\n",
    "            miou = sess.run(miou)\n",
    "            # miou, _ = sess.run([miou, update_op])  <<ERROR>> need to update it before retrieving the result\n",
    "        return miou"
   ]
  },
  {
   "cell_type": "code",
   "execution_count": 8,
   "metadata": {},
   "outputs": [
    {
     "name": "stdout",
     "output_type": "stream",
     "text": [
      "IoU : [ 0.17241379  0.15384615  0.13043478]\n",
      "mIoU: 0.152231576519\n"
     ]
    }
   ],
   "source": [
    "iou2, miou2 = iou_v2(gt, pred)\n",
    "assert (np.all(iou2==iou1) and miou2 == miou1), \"<<ERROR>>\"\n",
    "print('IoU :', iou2)\n",
    "print('mIoU:', miou2)"
   ]
  },
  {
   "cell_type": "code",
   "execution_count": 9,
   "metadata": {},
   "outputs": [
    {
     "name": "stdout",
     "output_type": "stream",
     "text": [
      "mIoU: 0.152232\n"
     ]
    }
   ],
   "source": [
    "miou3 = iou_v3(gt, pred)\n",
    "#assert (miou3 == miou1), \"<<ERROR>>\"\n",
    "print('mIoU:', miou3)"
   ]
  },
  {
   "cell_type": "code",
   "execution_count": null,
   "metadata": {
    "collapsed": true
   },
   "outputs": [],
   "source": []
  }
 ],
 "metadata": {
  "kernelspec": {
   "display_name": "Python 3",
   "language": "python",
   "name": "python3"
  },
  "language_info": {
   "codemirror_mode": {
    "name": "ipython",
    "version": 3
   },
   "file_extension": ".py",
   "mimetype": "text/x-python",
   "name": "python",
   "nbconvert_exporter": "python",
   "pygments_lexer": "ipython3",
   "version": "3.6.1"
  }
 },
 "nbformat": 4,
 "nbformat_minor": 2
}
