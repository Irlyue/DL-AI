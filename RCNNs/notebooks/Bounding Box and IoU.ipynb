{
 "cells": [
  {
   "cell_type": "markdown",
   "metadata": {},
   "source": [
    "# Bounding Box and Calculation of IoU\n",
    "There's a great [blog](https://www.pyimagesearch.com/2016/11/07/intersection-over-union-iou-for-object-detection/) explaining the details about bounding box and the intersection over union(IoU) metric."
   ]
  },
  {
   "cell_type": "code",
   "execution_count": 1,
   "metadata": {
    "collapsed": true
   },
   "outputs": [],
   "source": [
    "import numpy as np\n",
    "import matplotlib.pyplot as plt\n",
    "\n",
    "from collections import namedtuple\n",
    "\n",
    "%matplotlib inline"
   ]
  },
  {
   "cell_type": "code",
   "execution_count": 2,
   "metadata": {
    "collapsed": true
   },
   "outputs": [],
   "source": [
    "def bbox_iou(boxA, boxB):\n",
    "    # determine the (x, y)-coordinates of the intersection rectangle\n",
    "    xA = max(boxA[0], boxB[0])\n",
    "    yA = max(boxA[1], boxB[1])\n",
    "    xB = min(boxA[2], boxB[2])\n",
    "    yB = min(boxA[3], boxB[3])\n",
    "\n",
    "    # compute the area of intersection rectangle\n",
    "    interArea = (xB - xA + 1) * (yB - yA + 1)\n",
    "    \n",
    "    # in case there is no intersection area of these two boxes, just set it to 0\n",
    "    interArea = max(0, interArea)\n",
    "\n",
    "    # compute the area of both the prediction and ground-truth\n",
    "    # rectangles\n",
    "    boxAArea = (boxA[2] - boxA[0] + 1) * (boxA[3] - boxA[1] + 1)\n",
    "    boxBArea = (boxB[2] - boxB[0] + 1) * (boxB[3] - boxB[1] + 1)\n",
    "\n",
    "    # compute the intersection over union by taking the intersection\n",
    "    # area and dividing it by the sum of prediction + ground-truth\n",
    "    # areas - the interesection area\n",
    "    iou = interArea / float(boxAArea + boxBArea - interArea)\n",
    "\n",
    "    # return the intersection over union value\n",
    "    return iou"
   ]
  },
  {
   "cell_type": "code",
   "execution_count": 3,
   "metadata": {
    "collapsed": true
   },
   "outputs": [],
   "source": [
    "Detection = namedtuple('Detection', ['gt', 'pred'])\n",
    "examples = [\n",
    "    Detection([35, 51, 196, 110], [15, 160, 180, 258]),\n",
    "    Detection([39, 63, 203, 112], [94, 66, 198, 114]),\n",
    "    Detection([49, 75, 203, 125], [42, 78, 186, 126]),\n",
    "    Detection([31, 69, 201, 125], [18, 63, 235, 135]),\n",
    "    Detection([50, 72, 197, 121], [54, 72, 198, 120]),\n",
    "    Detection([35, 51, 196, 110], [35, 51, 196, 110])\n",
    "]"
   ]
  },
  {
   "cell_type": "code",
   "execution_count": 4,
   "metadata": {
    "collapsed": true
   },
   "outputs": [],
   "source": [
    "def draw_bbox(ax, bbox, color='b'):\n",
    "    xmin, ymin, xmax, ymax = bbox\n",
    "    patch = plt.Rectangle((xmin, ymin), fill=False, linewidth=3, alpha=0.8,\n",
    "                          edgecolor=color, height=ymax-ymin, width=xmax-xmin)\n",
    "    ax.add_patch(patch)"
   ]
  },
  {
   "cell_type": "code",
   "execution_count": 5,
   "metadata": {},
   "outputs": [
    {
     "data": {
      "image/png": "[encoded data removed]",
      "text/plain": [
       "<matplotlib.figure.Figure at 0x7f644f811c88>"
      ]
     },
     "metadata": {},
     "output_type": "display_data"
    }
   ],
   "source": [
    "plt.figure(figsize=(15, 10))\n",
    "for i, det in enumerate(examples):\n",
    "    ax = plt.subplot(2, 3, i+1)\n",
    "    ax.imshow(np.ones((300, 300, 3), dtype=np.uint8)*255)\n",
    "    draw_bbox(ax, det.gt, 'g')\n",
    "    draw_bbox(ax, det.pred, 'r')\n",
    "    iou = bbox_iou(det.gt, det.pred)\n",
    "    plt.title('IoU=%.3f' % iou)\n",
    "    plt.xticks([])\n",
    "    plt.yticks([])\n",
    "plt.show()"
   ]
  },
  {
   "cell_type": "code",
   "execution_count": null,
   "metadata": {
    "collapsed": true
   },
   "outputs": [],
   "source": []
  }
 ],
 "metadata": {
  "kernelspec": {
   "display_name": "Python 3",
   "language": "python",
   "name": "python3"
  },
  "language_info": {
   "codemirror_mode": {
    "name": "ipython",
    "version": 3
   },
   "file_extension": ".py",
   "mimetype": "text/x-python",
   "name": "python",
   "nbconvert_exporter": "python",
   "pygments_lexer": "ipython3",
   "version": "3.6.1"
  }
 },
 "nbformat": 4,
 "nbformat_minor": 2
}
