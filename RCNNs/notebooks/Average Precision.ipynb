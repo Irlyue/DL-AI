{
 "cells": [
  {
   "cell_type": "markdown",
   "metadata": {},
   "source": [
    "# Calucate Average Precision\n",
    "In the case of binary classification, **precision** and **recall** are two commonly used metrics. Precision is a performance measure of positive predictions, whereas recall is a performance measure of the whole positive part of a dataset.\n",
    "These two metrics are defined as:\n",
    "$$\n",
    "precision = \\frac{TP}{TP + FP}\\\\\n",
    "recall = \\frac{TP}{TP + FN}\\\\\n",
    "$$\n",
    "Sometimes it's not convinient to perform model selection under two metrics, so **average precision(AP)** is come up with to unify these two basic evaluation measures. Each AP value is associated with a precision-recall curve(PRC). \n",
    "Intuitively, we could change the threshold of the binary classifier, which may produce a different result of (precision, recall) pair. So if we plot all these (precision, recall) points under different threhold values, we'll get a so-called precision-recall curve:\n",
    "![]()\n",
    "Mathematically, average precision is defined as:\n",
    "$$\n",
    "AP = \\int_0^1 p(r)dr\n",
    "$$\n",
    "where $p(r)$ gives the precision value at a given recall value. So AP is exacly the area under the curve(AUC).\n",
    "Speaking of calculating the AUC, there are mainly two different versions:\n",
    "- Version one: Directly connect two adjacent (precision, recall) points and compute the area under the line segments.\n",
    "- Version two: Use interpolated precision value by setting precision for recall $r$ where:\n",
    "$$\n",
    "p(r) = max_{r'>r } p(r')\n",
    "$$\n",
    "These notebook focuses on how to compute these two different versions of AP. Refer to [here](https://sanchom.wordpress.com/tag/average-precision/) and [here](https://classeval.wordpress.com/introduction/introduction-to-the-precision-recall-plot/) for detailed explanation."
   ]
  },
  {
   "cell_type": "code",
   "execution_count": 1,
   "metadata": {
    "collapsed": true
   },
   "outputs": [],
   "source": [
    "import numpy as np\n",
    "import matplotlib.pyplot as plt\n",
    "\n",
    "%matplotlib inline"
   ]
  },
  {
   "cell_type": "markdown",
   "metadata": {},
   "source": [
    "## Random Data"
   ]
  },
  {
   "cell_type": "code",
   "execution_count": 2,
   "metadata": {
    "collapsed": true
   },
   "outputs": [],
   "source": [
    "np.random.seed(5)\n",
    "\n",
    "n = 10\n",
    "score = np.random.randn(n)                # score\n",
    "gt = np.random.randint(2, size=(n,))      # ground truth   "
   ]
  },
  {
   "cell_type": "markdown",
   "metadata": {},
   "source": [
    "## Precision-Recall Pairs\n",
    "As we can see from the definition of recall, the denominator is ther number of positive examples, which is a constant no matter how we choose our threshold value. As a result, the recall value depends only on the number of true positives. So if we steadily decrease the threhold value from 1 down to 0, we would gradually predict every example as positive and thus the recall will also go up util it reaches 1. \n",
    "In order to simplify the calculation of this process, we first sort the output scores(sometimes probability values) in descending order and decrease the threshold value each time to just include one more example. Here we first show how to compute the (precision, recall) pairs."
   ]
  },
  {
   "cell_type": "code",
   "execution_count": 3,
   "metadata": {
    "collapsed": true
   },
   "outputs": [],
   "source": [
    "def precision_recall_pairs(score, gt):\n",
    "    si = np.argsort(-score)   # sort in descending order\n",
    "    tp = (gt[si] == 1)\n",
    "    fp = (gt[si] == 0)\n",
    "    tp = np.cumsum(tp)\n",
    "    fp = np.cumsum(fp)\n",
    "    prec = tp / (tp + fp)\n",
    "    rec = tp / np.sum(gt)\n",
    "    return prec, rec"
   ]
  },
  {
   "cell_type": "markdown",
   "metadata": {},
   "source": [
    "## Version One\n",
    "This version has already been implemented in sklearn package, so we could import from it to varify the correctness of our implementation."
   ]
  },
  {
   "cell_type": "code",
   "execution_count": 4,
   "metadata": {},
   "outputs": [],
   "source": [
    "from sklearn.metrics import average_precision_score\n",
    "\n",
    "def direct_precision_recall_pairs(score, gt):\n",
    "    prec, rec = precision_recall_pairs(score, gt)\n",
    "    # include another pair where precision=1 and recall=0\n",
    "    prec = np.r_[1, prec]\n",
    "    rec = np.r_[0, rec]\n",
    "    return prec, rec\n",
    "\n",
    "def average_precision_v1(score, gt):\n",
    "    \"\"\"\n",
    "    Average precision version one.\n",
    "    ---\n",
    "    Arguments:\n",
    "    score: np.array, with shape(n_examples,), confidence of the predicitions, could either be \n",
    "    score values(logits) or probability values.\n",
    "    gt: np.array, same shape with `score`, contains only 1 or 0.\n",
    "    ---\n",
    "    Returns:\n",
    "    ap: float, between[0, 1], the average precision value.\n",
    "    \"\"\"\n",
    "    prec, rec = direct_precision_recall_pairs(score, gt)\n",
    "    ap = np.sum(0.5 * (prec[:-1] + prec[1:]) * (rec[1:] - rec[:-1]))  # area of trapezoids\n",
    "    return ap"
   ]
  },
  {
   "cell_type": "code",
   "execution_count": 5,
   "metadata": {},
   "outputs": [
    {
     "name": "stdout",
     "output_type": "stream",
     "text": [
      "Average precision(v1):       0.63964\n",
      "Average precision(expected): 0.63964\n"
     ]
    }
   ],
   "source": [
    "ap_v1 = average_precision_v1(score, gt)\n",
    "ap_official = average_precision_score(gt, score)\n",
    "assert abs(ap_v1 - ap_official) < 1e-8, \"<<ERROR>>\"\n",
    "print('Average precision(v1):       %.5f' % ap_v1)\n",
    "print('Average precision(expected): %.5f' % ap_official)"
   ]
  },
  {
   "cell_type": "markdown",
   "metadata": {},
   "source": [
    "## Version Two\n",
    "There's no official implementation of the interpolated average precision. However, the PASCAL competition does provide a matlab version in their development toolkit, which could be found be [here](http://host.robots.ox.ac.uk/pascal/VOC/voc2012/VOCdevkit_18-May-2011.tar). So we may test our result against the matlab version. The matlab code is as follows:\n",
    "```Matlab\n",
    "%%%%%%%%%%%% Helper Function %%%%%%%%%%%%%%%\n",
    "function ap = VOCap(rec,prec)\n",
    "\n",
    "mrec=[0 ; rec ; 1];\n",
    "mpre=[0 ; prec ; 0];\n",
    "for i=numel(mpre)-1:-1:1\n",
    "    mpre(i)=max(mpre(i),mpre(i+1));\n",
    "end\n",
    "i=find(mrec(2:end)~=mrec(1:end-1))+1;\n",
    "ap=sum((mrec(i)-mrec(i-1)).*mpre(i));\n",
    "\n",
    "%%%%%%%%%%%%% Actual Computation %%%%%%%%%%%%\n",
    "[so,si]=sort(-score);    \n",
    "tp=gt(si)>0;\n",
    "fp=gt(si)<0;\n",
    "fp=cumsum(fp);\n",
    "tp=cumsum(tp);\n",
    "\n",
    "rec=tp/sum(gt>0);\n",
    "prec=tp./(fp+tp);\n",
    "\n",
    "ap=VOCap(rec,prec);\n",
    "```"
   ]
  },
  {
   "cell_type": "code",
   "execution_count": 6,
   "metadata": {
    "collapsed": true
   },
   "outputs": [],
   "source": [
    "def interpolated_precision_recall_pairs(score, gt):\n",
    "    prec, rec = precision_recall_pairs(score, gt)\n",
    "    prec = np.r_[0, prec, 0]\n",
    "    rec = np.r_[0, rec, 1]\n",
    "    # calcuate the interpolated precision value\n",
    "    for i in reversed(range(0, prec.size-1)):\n",
    "        prec[i] = max(prec[i], prec[i+1])\n",
    "    return prec, rec\n",
    "\n",
    "def average_precision_v2(score, gt):\n",
    "    \"\"\"\n",
    "    Average precision version two.\n",
    "    \"\"\"\n",
    "    prec, rec = interpolated_precision_recall_pairs(score, gt)\n",
    "    ap = np.sum((rec[1:] - rec[:-1]) * prec[:-1])\n",
    "    return ap"
   ]
  },
  {
   "cell_type": "code",
   "execution_count": 7,
   "metadata": {},
   "outputs": [
    {
     "name": "stdout",
     "output_type": "stream",
     "text": [
      "Average precision(v2): 0.72500\n"
     ]
    }
   ],
   "source": [
    "ap_v2 = average_precision_v2(score, gt)\n",
    "print('Average precision(v2): %.5f' % ap_v2)"
   ]
  },
  {
   "cell_type": "code",
   "execution_count": 8,
   "metadata": {},
   "outputs": [
    {
     "data": {
      "text/plain": [
       "array([ 0.44122749, -0.33087015,  2.43077119, -0.25209213,  0.10960984,\n",
       "        1.58248112, -0.9092324 , -0.59163666,  0.18760323, -0.32986996])"
      ]
     },
     "execution_count": 8,
     "metadata": {},
     "output_type": "execute_result"
    }
   ],
   "source": [
    "score"
   ]
  },
  {
   "cell_type": "code",
   "execution_count": 9,
   "metadata": {},
   "outputs": [
    {
     "data": {
      "text/plain": [
       "array([0, 1, 1, 1, 1, 0, 0, 0, 1, 0])"
      ]
     },
     "execution_count": 9,
     "metadata": {},
     "output_type": "execute_result"
    }
   ],
   "source": [
    "gt"
   ]
  },
  {
   "cell_type": "markdown",
   "metadata": {},
   "source": [
    "## Visualization\n",
    "In addition, we could also visualize the precision-recall curves of these two versions. As can be seen from the graph, the interpolated version overestimates the AP value and always includes the area formed by version one."
   ]
  },
  {
   "cell_type": "code",
   "execution_count": 10,
   "metadata": {},
   "outputs": [
    {
     "data": {
      "image/png": "[encoded data removed]",
      "text/plain": [
       "<matplotlib.figure.Figure at 0x7f7ac58b7cc0>"
      ]
     },
     "metadata": {},
     "output_type": "display_data"
    }
   ],
   "source": [
    "prec1, rec1 = direct_precision_recall_pairs(score, gt)\n",
    "prec2, rec2 = interpolated_precision_recall_pairs(score, gt)\n",
    "\n",
    "plt.figure(figsize=(10, 5))\n",
    "plt.subplot(121)\n",
    "plt.plot(rec1, prec1, alpha=0.6)\n",
    "plt.plot(rec1, prec1, 'o')\n",
    "plt.fill_between(rec1, prec1, alpha=0.35)\n",
    "plt.ylim([0.0, 1.05])\n",
    "plt.xlim([0.0, 1.0])\n",
    "plt.title('Version One')\n",
    "plt.xlabel('Recall')\n",
    "plt.ylabel('Precision')\n",
    "\n",
    "plt.subplot(122)\n",
    "plt.plot(rec1, prec1, '--g', alpha=0.6)\n",
    "plt.plot(rec2, prec2, alpha=0.6)\n",
    "plt.plot(rec2, prec2, 'o')\n",
    "plt.fill_between(rec2, prec2, alpha=0.35)\n",
    "plt.ylim([0.0, 1.05])\n",
    "plt.xlim([0.0, 1.0])\n",
    "plt.title('Version Two')\n",
    "plt.xlabel('Recall')\n",
    "plt.ylabel('Precision')\n",
    "plt.show()"
   ]
  },
  {
   "cell_type": "code",
   "execution_count": null,
   "metadata": {
    "collapsed": true
   },
   "outputs": [],
   "source": []
  }
 ],
 "metadata": {
  "kernelspec": {
   "display_name": "Python 3",
   "language": "python",
   "name": "python3"
  },
  "language_info": {
   "codemirror_mode": {
    "name": "ipython",
    "version": 3
   },
   "file_extension": ".py",
   "mimetype": "text/x-python",
   "name": "python",
   "nbconvert_exporter": "python",
   "pygments_lexer": "ipython3",
   "version": "3.6.1"
  }
 },
 "nbformat": 4,
 "nbformat_minor": 2
}
